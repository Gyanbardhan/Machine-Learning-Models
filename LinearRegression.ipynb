{
 "cells": [
  {
   "cell_type": "markdown",
   "id": "5e434454-e6b0-47c3-9be0-53ee6de335f3",
   "metadata": {},
   "source": [
    "# Linear Regression from Scratch on Salary-Experience Dataset"
   ]
  },
  {
   "cell_type": "code",
   "execution_count": 1,
   "id": "b3fe6ac5-0638-4343-93b5-5197acc9fbe6",
   "metadata": {},
   "outputs": [],
   "source": [
    "import numpy as np\n"
   ]
  },
  {
   "cell_type": "markdown",
   "id": "21a5069e-aec3-4d5d-ae58-fa48b5c4723c",
   "metadata": {},
   "source": [
    "## Model From Scratch"
   ]
  },
  {
   "cell_type": "code",
   "execution_count": 2,
   "id": "f4916dac-bb8b-4905-93d8-57e9b7f26a3e",
   "metadata": {},
   "outputs": [],
   "source": [
    "class Linear_Regression():\n",
    "    #initiating the parameters\n",
    "    def __init__(self,learning_rate,no_of_iterations):\n",
    "        self.learning_rate=learning_rate\n",
    "        self.no_of_iterations=no_of_iterations\n",
    "    #x=experiance y=salary\n",
    "    def fit(self,x,y):\n",
    "        self.m,self.n=x.shape\n",
    "        self.w=np.zeros(self.n)\n",
    "        self.b=0\n",
    "        self.x=x\n",
    "        self.y=y\n",
    "\n",
    "        #implementing Gradient Descent\n",
    "        for i in range(self.no_of_iterations):\n",
    "            self.update_weights()\n",
    "    \n",
    "    def update_weights(self):\n",
    "        y_prediction=self.predict(self.x)\n",
    "\n",
    "        dw=-(2*(self.x.T).dot(self.y-y_prediction))/self.m\n",
    "        db=-2*np.sum(self.y-y_prediction)/self.m\n",
    "\n",
    "        self.w=self.w-self.learning_rate*dw\n",
    "        self.b=self.b-self.learning_rate*db\n",
    "        \n",
    "    def predict(self,x):\n",
    "        \n",
    "        return x.dot(self.w)+self.b"
   ]
  },
  {
   "cell_type": "code",
   "execution_count": 3,
   "id": "d2fa04c0-6114-4dc2-b9de-cf578b2b1ae7",
   "metadata": {},
   "outputs": [],
   "source": [
    "import pandas as pd"
   ]
  },
  {
   "cell_type": "code",
   "execution_count": 4,
   "id": "e9b91d81-efcf-4421-aeac-2476f400f650",
   "metadata": {},
   "outputs": [],
   "source": [
    "from sklearn.model_selection import train_test_split\n",
    "import matplotlib.pyplot as plt"
   ]
  },
  {
   "cell_type": "code",
   "execution_count": 5,
   "id": "1d9d27f7-40c8-4643-9ef8-7e0a27d3be6f",
   "metadata": {},
   "outputs": [],
   "source": [
    "salary_data=pd.read_csv(\"salary_data.csv\")"
   ]
  },
  {
   "cell_type": "code",
   "execution_count": 6,
   "id": "2c8fc0ed-b6e0-403e-806a-e04ffa570557",
   "metadata": {},
   "outputs": [
    {
     "data": {
      "text/html": [
       "<div>\n",
       "<style scoped>\n",
       "    .dataframe tbody tr th:only-of-type {\n",
       "        vertical-align: middle;\n",
       "    }\n",
       "\n",
       "    .dataframe tbody tr th {\n",
       "        vertical-align: top;\n",
       "    }\n",
       "\n",
       "    .dataframe thead th {\n",
       "        text-align: right;\n",
       "    }\n",
       "</style>\n",
       "<table border=\"1\" class=\"dataframe\">\n",
       "  <thead>\n",
       "    <tr style=\"text-align: right;\">\n",
       "      <th></th>\n",
       "      <th>YearsExperience</th>\n",
       "      <th>Salary</th>\n",
       "    </tr>\n",
       "  </thead>\n",
       "  <tbody>\n",
       "    <tr>\n",
       "      <th>0</th>\n",
       "      <td>1.1</td>\n",
       "      <td>39343</td>\n",
       "    </tr>\n",
       "    <tr>\n",
       "      <th>1</th>\n",
       "      <td>1.3</td>\n",
       "      <td>46205</td>\n",
       "    </tr>\n",
       "    <tr>\n",
       "      <th>2</th>\n",
       "      <td>1.5</td>\n",
       "      <td>37731</td>\n",
       "    </tr>\n",
       "    <tr>\n",
       "      <th>3</th>\n",
       "      <td>2.0</td>\n",
       "      <td>43525</td>\n",
       "    </tr>\n",
       "    <tr>\n",
       "      <th>4</th>\n",
       "      <td>2.2</td>\n",
       "      <td>39891</td>\n",
       "    </tr>\n",
       "  </tbody>\n",
       "</table>\n",
       "</div>"
      ],
      "text/plain": [
       "   YearsExperience  Salary\n",
       "0              1.1   39343\n",
       "1              1.3   46205\n",
       "2              1.5   37731\n",
       "3              2.0   43525\n",
       "4              2.2   39891"
      ]
     },
     "execution_count": 6,
     "metadata": {},
     "output_type": "execute_result"
    }
   ],
   "source": [
    "salary_data.head()"
   ]
  },
  {
   "cell_type": "code",
   "execution_count": 7,
   "id": "39a9b25a-ddb9-43a3-b121-da4411aa1daf",
   "metadata": {},
   "outputs": [
    {
     "data": {
      "text/plain": [
       "(30, 2)"
      ]
     },
     "execution_count": 7,
     "metadata": {},
     "output_type": "execute_result"
    }
   ],
   "source": [
    "salary_data.shape"
   ]
  },
  {
   "cell_type": "code",
   "execution_count": 8,
   "id": "028c78a2-785f-40f4-b872-fce2d0ff05f5",
   "metadata": {},
   "outputs": [
    {
     "data": {
      "text/plain": [
       "YearsExperience    0\n",
       "Salary             0\n",
       "dtype: int64"
      ]
     },
     "execution_count": 8,
     "metadata": {},
     "output_type": "execute_result"
    }
   ],
   "source": [
    "salary_data.isnull().sum()"
   ]
  },
  {
   "cell_type": "code",
   "execution_count": 9,
   "id": "73b65de7-916b-473d-affd-703af9cffb89",
   "metadata": {},
   "outputs": [],
   "source": [
    "x=salary_data.iloc[:,:-1].values\n",
    "y=salary_data.iloc[:,1].values"
   ]
  },
  {
   "cell_type": "code",
   "execution_count": 10,
   "id": "94ba0ee2-bb42-4cac-810e-dcb550af5214",
   "metadata": {},
   "outputs": [
    {
     "data": {
      "text/plain": [
       "array([[ 1.1],\n",
       "       [ 1.3],\n",
       "       [ 1.5],\n",
       "       [ 2. ],\n",
       "       [ 2.2],\n",
       "       [ 2.9],\n",
       "       [ 3. ],\n",
       "       [ 3.2],\n",
       "       [ 3.2],\n",
       "       [ 3.7],\n",
       "       [ 3.9],\n",
       "       [ 4. ],\n",
       "       [ 4. ],\n",
       "       [ 4.1],\n",
       "       [ 4.5],\n",
       "       [ 4.9],\n",
       "       [ 5.1],\n",
       "       [ 5.3],\n",
       "       [ 5.9],\n",
       "       [ 6. ],\n",
       "       [ 6.8],\n",
       "       [ 7.1],\n",
       "       [ 7.9],\n",
       "       [ 8.2],\n",
       "       [ 8.7],\n",
       "       [ 9. ],\n",
       "       [ 9.5],\n",
       "       [ 9.6],\n",
       "       [10.3],\n",
       "       [10.5]])"
      ]
     },
     "execution_count": 10,
     "metadata": {},
     "output_type": "execute_result"
    }
   ],
   "source": [
    " x"
   ]
  },
  {
   "cell_type": "code",
   "execution_count": 11,
   "id": "a5001dc2-f58f-4ddb-b77e-af5cb6acc457",
   "metadata": {},
   "outputs": [
    {
     "data": {
      "text/plain": [
       "array([ 39343,  46205,  37731,  43525,  39891,  56642,  60150,  54445,\n",
       "        64445,  57189,  63218,  55794,  56957,  57081,  61111,  67938,\n",
       "        66029,  83088,  81363,  93940,  91738,  98273, 101302, 113812,\n",
       "       109431, 105582, 116969, 112635, 122391, 121872], dtype=int64)"
      ]
     },
     "execution_count": 11,
     "metadata": {},
     "output_type": "execute_result"
    }
   ],
   "source": [
    "y"
   ]
  },
  {
   "cell_type": "code",
   "execution_count": 12,
   "id": "0ee80348-fcef-48da-ae29-ba122c275c1a",
   "metadata": {},
   "outputs": [],
   "source": [
    "x_train,x_test,y_train,y_test=train_test_split(x,y,test_size=0.33,random_state=2)"
   ]
  },
  {
   "cell_type": "code",
   "execution_count": 13,
   "id": "50b23fd6-d1af-47de-bd1e-c9a9502bc76e",
   "metadata": {},
   "outputs": [
    {
     "data": {
      "text/plain": [
       "array([[ 2.9],\n",
       "       [ 9.6],\n",
       "       [ 4. ],\n",
       "       [ 2.2],\n",
       "       [ 3.9],\n",
       "       [ 5.1],\n",
       "       [10.3],\n",
       "       [ 9. ],\n",
       "       [ 5.3],\n",
       "       [ 1.5],\n",
       "       [ 3.2],\n",
       "       [ 9.5],\n",
       "       [ 8.7],\n",
       "       [ 5.9],\n",
       "       [ 4. ],\n",
       "       [ 7.9],\n",
       "       [10.5],\n",
       "       [ 4.1],\n",
       "       [ 4.9],\n",
       "       [ 3.2]])"
      ]
     },
     "execution_count": 13,
     "metadata": {},
     "output_type": "execute_result"
    }
   ],
   "source": [
    "x_train"
   ]
  },
  {
   "cell_type": "code",
   "execution_count": 14,
   "id": "d488250f-e99a-447e-81e0-3843d22e5ec2",
   "metadata": {},
   "outputs": [],
   "source": [
    "model=Linear_Regression(learning_rate=0.02,no_of_iterations=1000)"
   ]
  },
  {
   "cell_type": "code",
   "execution_count": 15,
   "id": "bd5c5158-07b8-473b-9cb6-d65f9ae1d49b",
   "metadata": {},
   "outputs": [],
   "source": [
    "model.fit(x_train,y_train)"
   ]
  },
  {
   "cell_type": "code",
   "execution_count": 16,
   "id": "12866758-dedb-430e-818c-5ee9ed31d96d",
   "metadata": {},
   "outputs": [
    {
     "name": "stdout",
     "output_type": "stream",
     "text": [
      "9514.400999035135\n",
      "23697.406507136307\n"
     ]
    }
   ],
   "source": [
    "print(model.w[0])\n",
    "print(model.b)"
   ]
  },
  {
   "cell_type": "markdown",
   "id": "a834f7f2-9b73-4db0-b25b-fc54f29b10e0",
   "metadata": {},
   "source": [
    "# y=9514.400999035135(x)+23697.406507136307\n",
    "# salary=9514.400999035135(experience)+23697.406507136307"
   ]
  },
  {
   "cell_type": "code",
   "execution_count": 17,
   "id": "a53e28fe-5654-4055-9e10-48f77810a28c",
   "metadata": {},
   "outputs": [],
   "source": [
    "test_data_prediction=model.predict(x_test)"
   ]
  },
  {
   "cell_type": "code",
   "execution_count": 18,
   "id": "c98f539e-945d-4f9b-9208-2dfb624e75b7",
   "metadata": {},
   "outputs": [
    {
     "data": {
      "text/plain": [
       "array([ 36066.12780588,  34163.24760607,  66512.21100279,  58900.69020357,\n",
       "        91249.65360029,  80783.81250135, 101715.49469922,  52240.60950424,\n",
       "        42726.20850521,  88395.33330058])"
      ]
     },
     "execution_count": 18,
     "metadata": {},
     "output_type": "execute_result"
    }
   ],
   "source": [
    "test_data_prediction"
   ]
  },
  {
   "cell_type": "code",
   "execution_count": 19,
   "id": "a87d6114-6f59-4e87-95a2-6898149ff04e",
   "metadata": {},
   "outputs": [
    {
     "data": {
      "image/png": "[encoded data removed]",
      "text/plain": [
       "<Figure size 640x480 with 1 Axes>"
      ]
     },
     "metadata": {},
     "output_type": "display_data"
    }
   ],
   "source": [
    "plt.scatter(x_test,y_test,color='red')\n",
    "plt.plot(x_test,test_data_prediction,color='blue')\n",
    "plt.xlabel(\"Work Experience\")\n",
    "plt.ylabel(\"Salary\")\n",
    "plt.title(\"Salary vs Experience\")\n",
    "plt.show()"
   ]
  },
  {
   "cell_type": "code",
   "execution_count": null,
   "id": "3ede9a37-22d3-488a-81c6-ae5e8a4f8b6d",
   "metadata": {},
   "outputs": [],
   "source": []
  }
 ],
 "metadata": {
  "kernelspec": {
   "display_name": "Python 3 (ipykernel)",
   "language": "python",
   "name": "python3"
  },
  "language_info": {
   "codemirror_mode": {
    "name": "ipython",
    "version": 3
   },
   "file_extension": ".py",
   "mimetype": "text/x-python",
   "name": "python",
   "nbconvert_exporter": "python",
   "pygments_lexer": "ipython3",
   "version": "3.12.0"
  }
 },
 "nbformat": 4,
 "nbformat_minor": 5
}
